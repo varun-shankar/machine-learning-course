{
 "cells": [
  {
   "cell_type": "raw",
   "metadata": {},
   "source": []
  },
  {
   "cell_type": "markdown",
   "metadata": {},
   "source": [
    "# Assignment 1 - Probability, Linear Algebra, Programming, and Git\n",
    "\n",
    "## Varun Shankar\n",
    "Netid:  vjs7"
   ]
  },
  {
   "cell_type": "markdown",
   "metadata": {},
   "source": [
    "# Probability and Statistics Theory"
   ]
  },
  {
   "cell_type": "markdown",
   "metadata": {
    "collapsed": true
   },
   "source": [
    "## 1\n",
    "Let $f(x) = \\begin{cases}\n",
    "                0           & x < 0  \\\\\n",
    "                \\alpha x^2  & 0 \\leq x \\leq 2 \\\\\n",
    "                0           & 2 < x\n",
    "            \\end{cases}$\n",
    "            \n",
    "For what value of $\\alpha$ is $f(x)$ a valid probability density function?\n",
    "\n",
    "*Note: for all assignments, write out all equations and math for all assignments using markdown and [LaTeX](https://tobi.oetiker.ch/lshort/lshort.pdf) and show all work*"
   ]
  },
  {
   "cell_type": "markdown",
   "metadata": {},
   "source": [
    "**ANSWER**\n",
    "\n",
    "$\\int_{0}^{2} \\alpha x^2 dx = 1 = \\frac{\\alpha}{3}(2^3-0^3)$\n",
    "\n",
    "$\\alpha = \\frac{3}{8}$"
   ]
  },
  {
   "cell_type": "markdown",
   "metadata": {},
   "source": [
    "## 2\n",
    "What is the cumulative distribution function (CDF) that corresponds to the following probability distribution function? Please state the value of the CDF for all possible values of $x$.\n",
    "\n",
    "$f(x) = \\begin{cases}\n",
    "    \\frac{1}{3} & 0 < x < 3 \\\\\n",
    "    0           & \\text{otherwise}\n",
    "    \\end{cases}$"
   ]
  },
  {
   "cell_type": "markdown",
   "metadata": {},
   "source": [
    "**ANSWER**\n",
    "\n",
    "$F(x) = \\begin{cases}\n",
    "    0                      & x \\leq 0 \\\\\n",
    "    \\frac{1}{3}x           & 0 < x < 3 \\\\\n",
    "    1                      & x \\geq 3 \\\\\n",
    "    \\end{cases}$"
   ]
  },
  {
   "cell_type": "markdown",
   "metadata": {},
   "source": [
    "## 3\n",
    "For the probability distribution function for the random variable $X$,\n",
    "\n",
    "$f(x) = \\begin{cases}\n",
    "    \\frac{1}{3} & 0 < x < 3 \\\\\n",
    "    0           & \\text{otherwise}\n",
    "    \\end{cases}$\n",
    "    \n",
    "what is the (a) expected value and (b) variance of $X$. *Show all work*."
   ]
  },
  {
   "cell_type": "markdown",
   "metadata": {},
   "source": [
    "**ANSWER**\n",
    "\n",
    "(a) Expected value:\n",
    "\n",
    "$\\int_{0}^{3} \\frac{1}{3} x  dx = \\frac{9}{6} = 1.5$\n",
    "\n",
    "\n",
    "(b) Variance:\n",
    "\n",
    "$\\int_{0}^{3} \\frac{1}{3}(x - 1.5)^2  dx = 0.75$\n"
   ]
  },
  {
   "cell_type": "markdown",
   "metadata": {},
   "source": [
    "## 4\n",
    "Consider the following table of data that provides the values of a discrete data vector $\\mathbf{x}$ of samples from the random variable $X$, where each entry in $\\mathbf{x}$ is given as $x_i$.\n",
    "\n",
    "*Table 1. Dataset N=5 observations*\n",
    "\n",
    "|        | $x_0$ | $x_1$ | $x_2$ | $x_3$ | $x_4$ |\n",
    "|------  |-------|-------|-------|-------|-------|\n",
    "|$\\textbf{x}$| 2     | 3     | 10    | -1    | -1    |\n",
    "\n",
    "What is the (a) mean, (b) variance, and the  of the data? \n",
    "\n",
    "*Show all work. Your answer should include the definition of mean, median, and variance in the context of discrete data.*"
   ]
  },
  {
   "cell_type": "markdown",
   "metadata": {},
   "source": [
    "**ANSWER**\n",
    "\n",
    "(a) Mean\n",
    "\n",
    "The mean is the arithmetic average of the discrete sampled values.\n",
    "\n",
    "$\\frac{2+3+10-1-1}{5}=\\frac{13}{5}=2.6$\n",
    "\n",
    "\n",
    "(b) Variance\n",
    "\n",
    "$\\frac{(2-\\frac{13}{5})^2+(3-\\frac{13}{5})^2+(10-\\frac{13}{5})^2+(-1-\\frac{13}{5})^2+(-1-\\frac{13}{5})^2}{5-1}=20.3$\n",
    "\n"
   ]
  },
  {
   "cell_type": "markdown",
   "metadata": {},
   "source": [
    "## 5\n",
    "Review of counting from probability theory. \n",
    "\n",
    "(a) How many different 7-place licence plates are possible if the first 3 places only contain letters and te last 4 only contain numbers?\n",
    "\n",
    "(b) How many different batting orders are possible for a baseball team with 9 players?\n",
    "\n",
    "(c) How many batting orders of 5 players are possible for a team with 9 players total?\n",
    "\n",
    "(d) Let's assume this class has 26 students and we want to form project teams. How many unique teams of 3 are possible?\n",
    "\n",
    "*Hint: For each problem, determine if order matters, and if it should be calculated with or without replacement.*"
   ]
  },
  {
   "cell_type": "markdown",
   "metadata": {},
   "source": [
    "**ANSWER**\n",
    "\n",
    "(a) $26^3 10^4$\n",
    "\n",
    "(b) $9!=362880$\n",
    "\n",
    "(c) $\\frac{9!}{4!}=15120$\n",
    "\n",
    "(d) $\\frac{26*25*24}{3*2*1}=2600$\n",
    "\n"
   ]
  },
  {
   "cell_type": "markdown",
   "metadata": {},
   "source": [
    "# Linear Algebra"
   ]
  },
  {
   "cell_type": "markdown",
   "metadata": {},
   "source": [
    "## 6\n",
    "**Matrix manipulations and multiplication**. Machine learning involves working with many matrices, so this exercise will provide you with the opportunity to practice those skills.\n",
    "\n",
    "Let\n",
    "$\\mathbf{A} =  \\begin{bmatrix}\n",
    "1 & 2 & 3 \\\\\n",
    "2 & 4 & 5 \\\\\n",
    "3 & 5 & 6 \n",
    "\\end{bmatrix}$, $\\mathbf{b} =  \\begin{bmatrix}\n",
    "-1  \\\\\n",
    "3  \\\\\n",
    "8  \n",
    "\\end{bmatrix}$, $\\mathbf{c} =  \\begin{bmatrix}\n",
    "4  \\\\\n",
    "-3  \\\\\n",
    "6  \n",
    "\\end{bmatrix}$, and $\\mathbf{I} =  \\begin{bmatrix}\n",
    "1 & 0 & 0 \\\\\n",
    "0 & 1 & 0 \\\\\n",
    "0 & 0 & 1 \n",
    "\\end{bmatrix}$\n",
    "\n",
    "Compute the following or indicate that it cannot be computed:\n",
    "\n",
    "1. $\\mathbf{A}\\mathbf{A}$\n",
    "2. $\\mathbf{A}\\mathbf{A}^T$\n",
    "3. $\\mathbf{A}\\mathbf{b}$\n",
    "4. $\\mathbf{A}\\mathbf{b}^T$\n",
    "5. $\\mathbf{b}\\mathbf{A}$\n",
    "6. $\\mathbf{b}^T\\mathbf{A}$\n",
    "7. $\\mathbf{b}\\mathbf{b}$\n",
    "8. $\\mathbf{b}^T\\mathbf{b}$\n",
    "9. $\\mathbf{b}\\mathbf{b}^T$\n",
    "10. $\\mathbf{b} + \\mathbf{c}^T$\n",
    "11. $\\mathbf{b}^T\\mathbf{b}^T$\n",
    "12. $\\mathbf{A}^{-1}\\mathbf{b}$\n",
    "13. $\\mathbf{A}\\circ\\mathbf{A}$\n",
    "14. $\\mathbf{b}\\circ\\mathbf{c}$\n",
    "\n",
    "*Note: The element-wise (or Hadamard) product is the product of each element in one matrix with the corresponding element in another matrix, and is represented by the symbol \"$\\circ$\".*"
   ]
  },
  {
   "cell_type": "markdown",
   "metadata": {},
   "source": [
    "**ANSWER**\n",
    "\n",
    "1. $\\mathbf{A}\\mathbf{A}=\\begin{bmatrix}\n",
    "14 & 25 & 31 \\\\\n",
    "25 & 45 & 56 \\\\\n",
    "31 & 56 & 70 \n",
    "\\end{bmatrix}$  \n",
    "\n",
    "2. $\\mathbf{A}\\mathbf{A}^T=\\begin{bmatrix}\n",
    "14 & 25 & 31 \\\\\n",
    "25 & 45 & 56 \\\\\n",
    "31 & 56 & 70 \n",
    "\\end{bmatrix}$  \n",
    "\n",
    "3. $\\mathbf{A}\\mathbf{b}=\\begin{bmatrix}\n",
    "29 \\\\\n",
    "50 \\\\\n",
    "60 \n",
    "\\end{bmatrix}$  \n",
    "\n",
    "4. $\\mathbf{A}\\mathbf{b}^T=\\text{N/A}$\n",
    "\n",
    "5. $\\mathbf{b}\\mathbf{A}=\\text{N/A}$\n",
    "\n",
    "6. $\\mathbf{b}^T\\mathbf{A}=\\begin{bmatrix}\n",
    "29 & 50 & 60\n",
    "\\end{bmatrix}$  \n",
    "\n",
    "7. $\\mathbf{b}\\mathbf{b}=\\text{N/A}$\n",
    "\n",
    "8. $\\mathbf{b}^T\\mathbf{b}=74$  \n",
    "\n",
    "9. $\\mathbf{b}\\mathbf{b}^T=\\begin{bmatrix}\n",
    "1 & -3 & -8 \\\\\n",
    "-3 & 9 & 24 \\\\\n",
    "-8 & 24 & 64 \n",
    "\\end{bmatrix}$ \n",
    "\n",
    "10. $\\mathbf{b} + \\mathbf{c}^T=\\text{N/A}$\n",
    "\n",
    "11. $\\mathbf{b}^T\\mathbf{b}^T=\\text{N/A}$\n",
    "\n",
    "12. $\\mathbf{A}^{-1}\\mathbf{b}=\\begin{bmatrix}\n",
    "6 \\\\\n",
    "4 \\\\\n",
    "-5 \n",
    "\\end{bmatrix}$\n",
    "\n",
    "13. $\\mathbf{A}\\circ\\mathbf{A}=\\begin{bmatrix}\n",
    "1 & 4 & 9 \\\\\n",
    "4 & 16 & 25 \\\\\n",
    "9 & 25 & 36 \n",
    "\\end{bmatrix}$\n",
    "\n",
    "14. $\\mathbf{b}\\circ\\mathbf{c}=\\begin{bmatrix}\n",
    "-4 \\\\\n",
    "-9 \\\\\n",
    "48 \n",
    "\\end{bmatrix}$\n"
   ]
  },
  {
   "cell_type": "markdown",
   "metadata": {},
   "source": [
    "## 6\n",
    "**Eigenvectors and eigenvalues**. Eigenvectors and eigenvalues are useful for some machine learning algorithms, but the concepts take time to solidly grasp. For an intuitive review of these concepts, explore this [interactive website at Setosa.io](http://setosa.io/ev/eigenvectors-and-eigenvalues/). Also, the series of linear algebra videos by Grant Sanderson of 3Brown1Blue are excellent and can be viewed on youtube [here](https://www.youtube.com/playlist?list=PLZHQObOWTQDPD3MizzM2xVFitgF8hE_ab).\n",
    "\n",
    "1. Calculate the eigenvalues and corresponding eigenvectors of matrix $\\mathbf{A}$ above, from the last question.\n",
    "2. Choose one of the eigenvector/eigenvalue pairs, $\\mathbf{v}$ and $\\lambda$, and show that $\\mathbf{A} \\mathbf{v} = \\lambda \\mathbf{v}$. Also show that this relationship extends to higher orders: $\\mathbf{A} \\mathbf{A} \\mathbf{v} = \\lambda^2 \\mathbf{v}$\n",
    "3. Show that the eigenvectors are orthogonal to one another (e.g. their inner product is zero). This is true for real, symmetric matrices."
   ]
  },
  {
   "cell_type": "markdown",
   "metadata": {},
   "source": [
    "**ANSWER**\n",
    "\n",
    "### 1\n",
    "\n",
    "$\\mathbf{A} - \\lambda \\mathbf{I}=  \\begin{bmatrix}\n",
    "1-\\lambda & 2 & 3 \\\\\n",
    "2 & 4-\\lambda & 5 \\\\\n",
    "3 & 5 & 6-\\lambda \n",
    "\\end{bmatrix}$\n",
    "\n",
    "$\\text{det}(\\mathbf{A} - \\lambda \\mathbf{I})=(1-\\lambda)\\begin{vmatrix}\n",
    "                                                         4-\\lambda & 5\\\\\n",
    "                                                         5 & 6-\\lambda\n",
    "                                                         \\end{vmatrix}- (2)\\begin{vmatrix}\n",
    "                                                                            2 & 5\\\\\n",
    "                                                                            3 & 6-\\lambda\n",
    "                                                                            \\end{vmatrix} + (3)\\begin{vmatrix}\n",
    "                                                                                                2 & 4-\\lambda\\\\\n",
    "                                                                                                3 & 5\n",
    "                                                                                                \\end{vmatrix}$\n",
    "$\\text{det}(\\mathbf{A} - \\lambda \\mathbf{I})= (1-\\lambda)((4-\\lambda)(6-\\lambda)-(5)(5))-2((2)(6-\\lambda)-(5)(3))\n",
    "    +3((2)(5)-(4-\\lambda)(3))$\n",
    "    \n",
    "$\\text{det}(\\mathbf{A} - \\lambda \\mathbf{I})= -\\lambda^3+11\\lambda^2+4\\lambda-1=0$\n",
    "\n",
    "$\\lambda_1 = -0.5157, \\mathbf{v_1}= \\begin{bmatrix} 0.737 \\\\ 0.328 \\\\-0.591 \\end{bmatrix}$\n",
    "\n",
    "$\\lambda_2 = 0.1709, \\mathbf{v_2}= \\begin{bmatrix} 0.591 \\\\ -0.737 \\\\0.328 \\end{bmatrix}$\n",
    "\n",
    "$\\lambda_3 = 11.3448, \\mathbf{v_3}= \\begin{bmatrix} 0.328 \\\\ 0.591 \\\\0.737 \\end{bmatrix}$\n",
    "\n",
    "\n",
    "### 2\n",
    "\n",
    "$\\mathbf{A} \\mathbf{v_1} = \\begin{bmatrix}\n",
    "1 & 2 & 3 \\\\\n",
    "2 & 4 & 5 \\\\\n",
    "3 & 5 & 6 \n",
    "\\end{bmatrix} \\begin{bmatrix} 0.737 \\\\ 0.328 \\\\-0.591 \\end{bmatrix} = \\begin{bmatrix} -0.3801 \\\\ -0.1692 \\\\0.3048 \\end{bmatrix} = -0.5157 \\begin{bmatrix} 0.737 \\\\ 0.328 \\\\-0.591 \\end{bmatrix} = \\lambda_1 \\mathbf{v_1}$\n",
    "\n",
    "$\\mathbf{A} \\mathbf{A}\\mathbf{v_1} = \\begin{bmatrix}\n",
    "14 & 25 & 31 \\\\\n",
    "25 & 45 & 56 \\\\\n",
    "31 & 56 & 70 \n",
    "\\end{bmatrix} \\begin{bmatrix} 0.737 \\\\ 0.328 \\\\-0.591 \\end{bmatrix} = \\begin{bmatrix} 0.1960 \\\\ 0.0872 \\\\-0.1572 \\end{bmatrix} = (-0.5157)^2 \\begin{bmatrix} 0.737 \\\\ 0.328 \\\\-0.591 \\end{bmatrix} = \\lambda_1^2 \\mathbf{v_1}$\n",
    "\n",
    "\n",
    "### 3\n",
    "\n",
    "$\\mathbf{v_1} \\cdot \\mathbf{v_2} = (0.737)(0.591) + (0.328)(-0.737) + (-0.591)(0.328) = 0$\n",
    "\n",
    "$\\mathbf{v_1} \\cdot \\mathbf{v_3} = (0.737)(0.328) + (0.328)(0.591) + (-0.591)(0.737) = 0$\n",
    "\n",
    "$\\mathbf{v_2} \\cdot \\mathbf{v_3} = (0.591)(0.328) + (-0.737)(0.591) + (0.328)(0.737) = 0$\n",
    "\n"
   ]
  },
  {
   "cell_type": "markdown",
   "metadata": {},
   "source": [
    "# Numerical Programming"
   ]
  },
  {
   "cell_type": "markdown",
   "metadata": {},
   "source": [
    "## 7\n",
    "Speed comparison between vectorized and non-vectorized code. Begin by creating an array of 10 million random numbers using the numpy random.randn module. Compute the sum of the squares first in a for loop, then using Numpy's `dot` module. Time how long it takes to compute each and report the results and report the output. How many times faster is the vectorized code than the for loop approach?\n",
    "\n",
    "*Note: all code should be well commented, properly formatted, and your answers should be output using the `print()` function as follows (where the # represents your answers, to a reasonable precision):\n",
    "\n",
    "`Time [sec] (non-vectorized): ######`\n",
    "\n",
    "`Time [sec] (vectorized):     ######`\n",
    "\n",
    "`The vectorized code is ##### times faster than the vectorized code`"
   ]
  },
  {
   "cell_type": "markdown",
   "metadata": {},
   "source": [
    "**ANSWER**"
   ]
  },
  {
   "cell_type": "code",
   "execution_count": 108,
   "metadata": {},
   "outputs": [
    {
     "name": "stdout",
     "output_type": "stream",
     "text": [
      "3336068.79217\n",
      "3336068.79217\n",
      "Time [sec] (non-vectorized): 5.19024\n",
      "Time [sec] (vectorized):     0.00979\n",
      "The vectorized code is 530.00 times faster than the vectorized code\n"
     ]
    }
   ],
   "source": [
    "import numpy as np\n",
    "import time\n",
    "\n",
    "# Generate the random samples\n",
    "array = np.random.rand(10**7) #creates random array of size 10^7\n",
    "\n",
    "\n",
    "# Compute the sum of squares the non-vectorized way (using a for loop)\n",
    "ss = 0 #initialize sum of squares var\n",
    "\n",
    "tsnv = time.clock() #start time\n",
    "for x in array:\n",
    "    ss += x**2 #square each element, add to running sum\n",
    "tenv = time.clock() #end time\n",
    "\n",
    "\n",
    "# Compute the sum of squares the vectorized way (using numpy)\n",
    "tsv = time.clock() #start time\n",
    "ssv = np.dot(array,array) #dot product of itself\n",
    "tev = time.clock() #end time\n",
    "\n",
    "# Print the results\n",
    "print(ss)\n",
    "print(ssv)\n",
    "\n",
    "print('Time [sec] (non-vectorized): {0:5.5f}'.format(tenv-tsnv)) \n",
    "print('Time [sec] (vectorized):     {0:5.5f}'.format(tev-tsv)) \n",
    "print('The vectorized code is {0:5.2f} times faster than the vectorized code'.format((tenv-tsnv)/(tev-tsv)))\n"
   ]
  },
  {
   "cell_type": "markdown",
   "metadata": {},
   "source": [
    "## 8\n",
    "One popular Agile development framework is Scrum (a paradigm recommended for data science projects). It emphasizes the continual evolution of code for projects, becoming progressively better, but starting with a quickly developed minimum viable product. This often means that code written early on is not optimized, and that's a good thing - it's best to get it to work first before optimizing. Imagine that you wrote the following code during a sprint towards getting an end-to-end system working. Vectorize the following code and show the difference in speed between the current implementation and a vectorized version.\n",
    "\n",
    "The function below computes the function $f(x,y) = x^2 - 2 y^2$ and determines whether this quantity is above or below a given threshold, `thresh=0`. This is done for $x,y \\in \\{-4,4\\}$, with 2,000 samples in each direction.\n",
    "\n",
    "(a) Vectorize this code and demonstrate (as in the last exercise) the speed increase through vectorization and (b) plot the resulting data - both the function $f(x,y)$ and the thresholded output - using [`imshow`](https://matplotlib.org/api/_as_gen/matplotlib.pyplot.imshow.html?highlight=matplotlib%20pyplot%20imshow#matplotlib.pyplot.imshow) from `matplotlib`.\n",
    "\n",
    "*Hint: look at the `numpy` [`meshgrid`](https://docs.scipy.org/doc/numpy-1.13.0/reference/generated/numpy.meshgrid.html) documentation*"
   ]
  },
  {
   "cell_type": "code",
   "execution_count": 112,
   "metadata": {},
   "outputs": [
    {
     "name": "stdout",
     "output_type": "stream",
     "text": [
      "Time [sec] (non-vectorized): 5.57704\n",
      "Time [sec] (vectorized):     0.06872\n",
      "The vectorized code is 81.16 times faster than the vectorized code\n"
     ]
    },
    {
     "data": {
      "image/png": "[encoded data removed]",
      "text/plain": [
       "<matplotlib.figure.Figure at 0x124259518>"
      ]
     },
     "metadata": {},
     "output_type": "display_data"
    },
    {
     "data": {
      "image/png": "[encoded data removed]",
      "text/plain": [
       "<matplotlib.figure.Figure at 0x130f0e0b8>"
      ]
     },
     "metadata": {},
     "output_type": "display_data"
    }
   ],
   "source": [
    "import numpy as np\n",
    "import time\n",
    "import matplotlib.pyplot as plt\n",
    "\n",
    "# Initialize variables for this exerise\n",
    "x = np.linspace(-4,4,num=2000) #x vector\n",
    "y = np.linspace(4,-4,num=2000) #y vector\n",
    "\n",
    "# Nonvectorized implementation  \n",
    "tsnv = time.clock() #start time\n",
    "arraynv=[[x[i]**2-2*y[j]**2 for j in range(len(y))] for i in range(len(x))] #non-vectorized calculation\n",
    "arraynv=np.transpose(arraynv) #Transpose \n",
    "tenv = time.clock() #end time\n",
    "\n",
    "# Vectorized implementation\n",
    "tsv = time.clock() #start time\n",
    "xx, yy = np.meshgrid(x, y, sparse=True) #create meshgrid\n",
    "arrayv = (xx**2-2*yy**2) #vectorized calculation\n",
    "tev = time.clock() #end time\n",
    "thresh=arrayv>0 #create thresh array\n",
    "\n",
    "# Print the time for each and the speed increase\n",
    "print('Time [sec] (non-vectorized): {0:5.5f}'.format(tenv-tsnv)) \n",
    "print('Time [sec] (vectorized):     {0:5.5f}'.format(tev-tsv)) \n",
    "print('The vectorized code is {0:5.2f} times faster than the vectorized code'.format((tenv-tsnv)/(tev-tsv)))\n",
    "\n",
    "# Plot the result\n",
    "plt.imshow(arrayv, extent = [-4, 4, -4, 4]) # Plot vector array with correct axes\n",
    "plt.xlabel('x'), plt.ylabel('y'), plt.title('Vector calculated array of x$^2$-2y$^2$')\n",
    "plt.show()\n",
    "plt.imshow(thresh, extent = [-4, 4, -4, 4]) # Plot vector thresh array with correct axes\n",
    "plt.xlabel('x'), plt.ylabel('y'), plt.title('Thresholded Output')\n",
    "plt.show()\n"
   ]
  },
  {
   "cell_type": "markdown",
   "metadata": {},
   "source": [
    "## 9\n",
    "This exercise will walk through some basic numerical programming exercises.\n",
    "1. Synthesize $n=10^4$ normally distributed data points with mean $\\mu=2$ and a standard deviation of $\\sigma=1$. Call these observations from a random variable $X$, and call the vector of observations that you generate, $\\textbf{x}$.\n",
    "2. Calculate the mean and standard deviation of $\\textbf{x}$ to validate (1) and provide the result to a precision of four significant figures.\n",
    "3. Plot a histogram of the data in $\\textbf{x}$ with 30 bins\n",
    "4. What is the 90th percentile of $\\textbf{x}$? The 90th percentile is the value below which 90% of observations can be found.\n",
    "5. What is the 99th percentile of $\\textbf{x}$?\n",
    "6. Now synthesize $n=10^4$ normally distributed data points with mean $\\mu=0$ and a standard deviation of $\\sigma=3$. Call these observations from a random variable $Y$, and call the vector of observations that you generate, $\\textbf{y}$.\n",
    "7. Plot the histogram of the data in $\\textbf{y}$ on a (new) plot with the histogram of $\\textbf{x}$, so that both histograms can be seen and compared.\n",
    "8. Using the observations from $\\textbf{x}$ and $\\textbf{y}$, estimate $E[XY]$"
   ]
  },
  {
   "cell_type": "markdown",
   "metadata": {},
   "source": [
    "**ANSWER**"
   ]
  },
  {
   "cell_type": "code",
   "execution_count": 115,
   "metadata": {},
   "outputs": [
    {
     "name": "stdout",
     "output_type": "stream",
     "text": [
      "Mean of X is 2.003\n",
      "Standard deviation of X is 1.002\n"
     ]
    },
    {
     "data": {
      "image/png": "[encoded data removed]",
      "text/plain": [
       "<matplotlib.figure.Figure at 0x12a310710>"
      ]
     },
     "metadata": {},
     "output_type": "display_data"
    },
    {
     "name": "stdout",
     "output_type": "stream",
     "text": [
      "90th percentile of X is 3.300\n",
      "99th percentile of X is 4.409\n"
     ]
    },
    {
     "data": {
      "image/png": "[encoded data removed]",
      "text/plain": [
       "<matplotlib.figure.Figure at 0x11d4bf3c8>"
      ]
     },
     "metadata": {},
     "output_type": "display_data"
    },
    {
     "name": "stdout",
     "output_type": "stream",
     "text": [
      "Previous observations indicate E[XY] should be around 1, the mean of the sample means\n"
     ]
    }
   ],
   "source": [
    "import numpy as np\n",
    "import time\n",
    "import matplotlib.pyplot as plt\n",
    "\n",
    "# 1\n",
    "X = np.random.randn(10**4) + 2 # Creates vector of 10^4 numbers with mean 2 and st dev 1\n",
    "\n",
    "# 2\n",
    "xmean = np.mean(X) # mean\n",
    "xstd = np.std(X) # standard dev\n",
    "print('Mean of X is {0:4.3f}'.format(xmean)) \n",
    "print('Standard deviation of X is {0:4.3f}'.format(xstd)) \n",
    "\n",
    "# 3\n",
    "plt.hist(X, bins=30) # histogram with 30 bins\n",
    "plt.title('X Histogram')\n",
    "plt.show()\n",
    "\n",
    "# 4\n",
    "x90 = np.percentile(X, 90) # calculate 90th percentile\n",
    "print('90th percentile of X is {0:4.3f}'.format(x90)) \n",
    "\n",
    "# 5\n",
    "x99 = np.percentile(X, 99) # calculate 99th percentile\n",
    "print('99th percentile of X is {0:4.3f}'.format(x99)) \n",
    "\n",
    "# 6\n",
    "Y = 3*np.random.randn(10**4) # vector with st dev 3, mean 0\n",
    "\n",
    "# 7\n",
    "plt.hist(X, bins=30)\n",
    "plt.hist(Y, bins=30, facecolor='green', alpha=0.5) # plots both datasets on the same plot\n",
    "plt.title('X and Y Histogram')\n",
    "plt.show()\n",
    "\n",
    "# 8\n",
    "print('Previous observations indicate E[XY] should be around 1, the mean of the sample means')"
   ]
  },
  {
   "cell_type": "markdown",
   "metadata": {},
   "source": [
    "## 10\n",
    "Estimate the integral of the function $f(x)$ on the interval $0\\leq x < 2.5$ assuming we only know the following points from $f$:\n",
    "\n",
    "*Table 1. Dataset containing n=5 observations*\n",
    "\n",
    "| $x_i$ | 0.0 | 0.5 | 1.0 | 1.5 | 2.0 |\n",
    "|-|-|-|-|-|-|\n",
    "| $y_i$ | 6 | 7 | 8 | 4 | 1 |\n"
   ]
  },
  {
   "cell_type": "markdown",
   "metadata": {},
   "source": [
    "**ANSWER**\n",
    "\n",
    "$\\int_{0}^{2.5} f(x) dx \\approx 0.5(6+7+8+4+1) = 13$\n"
   ]
  },
  {
   "cell_type": "markdown",
   "metadata": {
    "collapsed": true
   },
   "source": [
    "# Version Control via Git"
   ]
  },
  {
   "cell_type": "markdown",
   "metadata": {},
   "source": [
    "## 11\n",
    "Complete the [Atlassian Git tutorial](https://www.atlassian.com/git/tutorials/what-is-version-control), specifically the following sections. Try each concept that's presented. For this tutorial, instead of using BitBucket, use Github. Create a github account here if you don't already have one: https://github.com/\n",
    "1. [What is version control](https://www.atlassian.com/git/tutorials/what-is-version-control)\n",
    "2. [What is Git](https://www.atlassian.com/git/tutorials/what-is-git)\n",
    "3. [Install Git](https://www.atlassian.com/git/tutorials/install-git)\n",
    "4. [Setting up a repository](https://www.atlassian.com/git/tutorials/install-git)\n",
    "5. [Saving changes](https://www.atlassian.com/git/tutorials/saving-changes)\n",
    "6. [Inspecting a repository](https://www.atlassian.com/git/tutorials/inspecting-a-repository)\n",
    "7. [Undoing changes](https://www.atlassian.com/git/tutorials/undoing-changes)\n",
    "8. [Rewriting history](https://www.atlassian.com/git/tutorials/rewriting-history)\n",
    "9. [Syncing](https://www.atlassian.com/git/tutorials/syncing)\n",
    "10. [Making a pull request](https://www.atlassian.com/git/tutorials/making-a-pull-request)\n",
    "11. [Using branches](https://www.atlassian.com/git/tutorials/using-branches)\n",
    "12. [Comparing workflows](https://www.atlassian.com/git/tutorials/comparing-workflows)\n",
    "\n",
    "For your answer, affirm that you either completed the tutorial or have previous experience with all of the concepts above. Do this by typing your name below and selecting the situation that applies from the two options in brackets."
   ]
  },
  {
   "cell_type": "markdown",
   "metadata": {},
   "source": [
    "**ANSWER**\n",
    "\n",
    "*I, Varun Shankar, affirm that I have completed the above tutorial*"
   ]
  },
  {
   "cell_type": "markdown",
   "metadata": {},
   "source": [
    "## 12\n",
    "Using Github to create a static HTML website:\n",
    "1. Create a branch in your `machine-learning-course` repo called \"gh-pages\" and checkout that branch (this will provide an example of how to create a simple static website using [Github Pages](https://pages.github.com/))\n",
    "2. Create a file called \"index.html\" with the contents \"Hello World\" and add, commit, and push it to that branch.\n",
    "3. Submit the following: (a) a link to your github repository and (b) a link to your new \"Hello World\" website. The latter should be at the address https://[USERNAME].github.io/ECE590-assignment0 (where [USERNAME] is your github username)."
   ]
  },
  {
   "cell_type": "markdown",
   "metadata": {},
   "source": [
    "**ANSWER**\n",
    "\n",
    "Link to repository: https://github.com/varun-shankar/machine-learning-course\n",
    "\n",
    "Link to website: https://varun-shankar.github.io/machine-learning-course/\n"
   ]
  },
  {
   "cell_type": "markdown",
   "metadata": {
    "collapsed": true
   },
   "source": [
    "# Exploratory Data Analysis\n",
    "## 13\n",
    "Here you'll bring together some of the individual skills that you demonstrated above and create a Jupyter notebook based blog post on data analysis.\n",
    "\n",
    "1. Find a dataset that interests you and relates to a question or problem that you find intriguing\n",
    "2. Using a Jupyter notebook, describe the dataset, the source of the data, and the reason the dataset was of interest.\n",
    "3. Check the data and see if they need to be cleaned: are there missing values? Are there clearly erroneous values? Do two tables need to be merged together? Clean the data so it can be visualized.\n",
    "3. Plot the data, demonstrating interesting features that you discover. Are there any relationships between variables that were surprising or patterns that emerged? Please exercise creativity and curiosity in your plots.\n",
    "4. What insights are you able to take away from exploring the data? Is there a reason why analyzing the dataset you chose is particularly interesting or important? Summarize this as if your target audience was the readership of a major news organization - boil down your findings in a way that is accessible, but still accurate.\n",
    "5. Create a public repository on your github account titled \"machine-learning-course\". In it, create a readme file that contains the heading \"ECE590: Introductory Machine Learning for Data Science\". Add, commit, and push that Jupyter notebook to the master branch. Provide the link to the that post here."
   ]
  },
  {
   "cell_type": "markdown",
   "metadata": {},
   "source": [
    "**ANSWER**\n",
    "\n",
    "Link: https://github.com/varun-shankar/machine-learning-course/blob/master/Assignment_1/Assignment_1_EDA.ipynb\n"
   ]
  },
  {
   "cell_type": "code",
   "execution_count": null,
   "metadata": {
    "collapsed": true
   },
   "outputs": [],
   "source": []
  }
 ],
 "metadata": {
  "kernelspec": {
   "display_name": "Python 3",
   "language": "python",
   "name": "python3"
  },
  "language_info": {
   "codemirror_mode": {
    "name": "ipython",
    "version": 3
   },
   "file_extension": ".py",
   "mimetype": "text/x-python",
   "name": "python",
   "nbconvert_exporter": "python",
   "pygments_lexer": "ipython3",
   "version": "3.6.3"
  }
 },
 "nbformat": 4,
 "nbformat_minor": 2
}
